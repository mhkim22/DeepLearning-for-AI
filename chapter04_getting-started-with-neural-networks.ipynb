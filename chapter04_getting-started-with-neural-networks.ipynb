{
  "cells": [
    {
      "cell_type": "markdown",
      "metadata": {
        "id": "SdRnuQiASZae"
      },
      "source": [
        "This is a companion notebook for the book [Deep Learning with Python, Second Edition](https://www.manning.com/books/deep-learning-with-python-second-edition?a_aid=keras&a_bid=76564dff). For readability, it only contains runnable code blocks and section titles, and omits everything else in the book: text paragraphs, figures, and pseudocode.\n",
        "\n",
        "**If you want to be able to follow what's going on, I recommend reading the notebook side by side with your copy of the book.**\n",
        "\n",
        "This notebook was generated for TensorFlow 2.6."
      ]
    },
    {
      "cell_type": "markdown",
      "metadata": {
        "id": "hlsl1k1oSZaj"
      },
      "source": [
        "# Getting started with neural networks: Classification and regression"
      ]
    },
    {
      "cell_type": "markdown",
      "metadata": {
        "id": "27HoHNrDSZak"
      },
      "source": [
        "## Classifying movie reviews: A binary classification example"
      ]
    },
    {
      "cell_type": "markdown",
      "metadata": {
        "id": "X571Nzo0SZak"
      },
      "source": [
        "### The IMDB dataset"
      ]
    },
    {
      "cell_type": "markdown",
      "metadata": {
        "id": "N6RWAdGESZal"
      },
      "source": [
        "**Loading the IMDB dataset**"
      ]
    },
    {
      "cell_type": "code",
      "execution_count": null,
      "metadata": {
        "id": "QZLCXo2ZSZal"
      },
      "outputs": [],
      "source": [
        "from tensorflow.keras.datasets import imdb\n",
        "(train_data, train_labels), (test_data, test_labels) = imdb.load_data(\n",
        "    num_words=10000)"
      ]
    },
    {
      "cell_type": "code",
      "execution_count": null,
      "metadata": {
        "id": "pFWftZTZSZam"
      },
      "outputs": [],
      "source": [
        "train_data[0]"
      ]
    },
    {
      "cell_type": "code",
      "execution_count": null,
      "metadata": {
        "id": "Dqxaj3IdSZan"
      },
      "outputs": [],
      "source": [
        "train_labels[0]"
      ]
    },
    {
      "cell_type": "code",
      "execution_count": null,
      "metadata": {
        "id": "_OsAgUAMSZan"
      },
      "outputs": [],
      "source": [
        "max([max(sequence) for sequence in train_data])"
      ]
    },
    {
      "cell_type": "markdown",
      "metadata": {
        "id": "c0fCQvqmSZao"
      },
      "source": [
        "**Decoding reviews back to text**"
      ]
    },
    {
      "cell_type": "code",
      "execution_count": null,
      "metadata": {
        "id": "BuWKphiySZao"
      },
      "outputs": [],
      "source": [
        "word_index = imdb.get_word_index()\n",
        "reverse_word_index = dict(\n",
        "    [(value, key) for (key, value) in word_index.items()])\n",
        "decoded_review = \" \".join(\n",
        "    [reverse_word_index.get(i - 3, \"?\") for i in train_data[0]])"
      ]
    },
    {
      "cell_type": "markdown",
      "metadata": {
        "id": "885Z1NenSZao"
      },
      "source": [
        "### Preparing the data"
      ]
    },
    {
      "cell_type": "markdown",
      "metadata": {
        "id": "4J2zBixTSZap"
      },
      "source": [
        "**Encoding the integer sequences via multi-hot encoding**"
      ]
    },
    {
      "cell_type": "code",
      "execution_count": null,
      "metadata": {
        "id": "piTZs-w9SZap"
      },
      "outputs": [],
      "source": [
        "import numpy as np\n",
        "def vectorize_sequences(sequences, dimension=10000):\n",
        "    results = np.zeros((len(sequences), dimension))\n",
        "    for i, sequence in enumerate(sequences):\n",
        "        for j in sequence:\n",
        "            results[i, j] = 1.\n",
        "    return results\n",
        "x_train = vectorize_sequences(train_data)\n",
        "x_test = vectorize_sequences(test_data)"
      ]
    },
    {
      "cell_type": "code",
      "execution_count": null,
      "metadata": {
        "id": "A4c03OmeSZap"
      },
      "outputs": [],
      "source": [
        "x_train[0]"
      ]
    },
    {
      "cell_type": "code",
      "execution_count": null,
      "metadata": {
        "id": "VEYMV8W2SZap"
      },
      "outputs": [],
      "source": [
        "y_train = np.asarray(train_labels).astype(\"float32\")\n",
        "y_test = np.asarray(test_labels).astype(\"float32\")"
      ]
    },
    {
      "cell_type": "markdown",
      "metadata": {
        "id": "EiSSU6nQSZaq"
      },
      "source": [
        "### Building your model"
      ]
    },
    {
      "cell_type": "markdown",
      "metadata": {
        "id": "gimcHAMBSZaq"
      },
      "source": [
        "**Model definition**"
      ]
    },
    {
      "cell_type": "code",
      "execution_count": null,
      "metadata": {
        "id": "YsjPn8VmSZaq"
      },
      "outputs": [],
      "source": [
        "from tensorflow import keras\n",
        "from tensorflow.keras import layers\n",
        "\n",
        "model = keras.Sequential([\n",
        "    layers.Dense(16, activation=\"relu\"),\n",
        "    layers.Dense(16, activation=\"relu\"),\n",
        "    layers.Dense(1, activation=\"sigmoid\")\n",
        "])"
      ]
    },
    {
      "cell_type": "markdown",
      "metadata": {
        "id": "YWSCqt1aSZaq"
      },
      "source": [
        "**Compiling the model**"
      ]
    },
    {
      "cell_type": "code",
      "execution_count": null,
      "metadata": {
        "id": "scrPwOpfSZaq"
      },
      "outputs": [],
      "source": [
        "model.compile(optimizer=\"rmsprop\",\n",
        "              loss=\"binary_crossentropy\",\n",
        "              metrics=[\"accuracy\"])"
      ]
    },
    {
      "cell_type": "markdown",
      "metadata": {
        "id": "eH7XpWXISZar"
      },
      "source": [
        "### Validating your approach"
      ]
    },
    {
      "cell_type": "markdown",
      "metadata": {
        "id": "HHhulGOwSZar"
      },
      "source": [
        "**Setting aside a validation set**"
      ]
    },
    {
      "cell_type": "code",
      "execution_count": null,
      "metadata": {
        "id": "zbc3ZAA3SZar"
      },
      "outputs": [],
      "source": [
        "x_val = x_train[:10000]\n",
        "partial_x_train = x_train[10000:]\n",
        "y_val = y_train[:10000]\n",
        "partial_y_train = y_train[10000:]"
      ]
    },
    {
      "cell_type": "markdown",
      "metadata": {
        "id": "Jl9mLCHGSZar"
      },
      "source": [
        "**Training your model**"
      ]
    },
    {
      "cell_type": "code",
      "execution_count": null,
      "metadata": {
        "id": "HhTGK6Q7SZar"
      },
      "outputs": [],
      "source": [
        "history = model.fit(partial_x_train,\n",
        "                    partial_y_train,\n",
        "                    epochs=20,\n",
        "                    batch_size=512,\n",
        "                    validation_data=(x_val, y_val))"
      ]
    },
    {
      "cell_type": "code",
      "execution_count": null,
      "metadata": {
        "id": "CmoHs4W-SZar"
      },
      "outputs": [],
      "source": [
        "history_dict = history.history\n",
        "history_dict.keys()"
      ]
    },
    {
      "cell_type": "markdown",
      "metadata": {
        "id": "ctfpNUn8SZar"
      },
      "source": [
        "**Plotting the training and validation loss**"
      ]
    },
    {
      "cell_type": "code",
      "execution_count": null,
      "metadata": {
        "id": "Qhz34X_ySZar"
      },
      "outputs": [],
      "source": [
        "import matplotlib.pyplot as plt\n",
        "history_dict = history.history\n",
        "loss_values = history_dict[\"loss\"]\n",
        "val_loss_values = history_dict[\"val_loss\"]\n",
        "epochs = range(1, len(loss_values) + 1)\n",
        "plt.plot(epochs, loss_values, \"bo\", label=\"Training loss\")\n",
        "plt.plot(epochs, val_loss_values, \"b\", label=\"Validation loss\")\n",
        "plt.title(\"Training and validation loss\")\n",
        "plt.xlabel(\"Epochs\")\n",
        "plt.ylabel(\"Loss\")\n",
        "plt.legend()\n",
        "plt.show()"
      ]
    },
    {
      "cell_type": "markdown",
      "metadata": {
        "id": "Txpj5G9pSZar"
      },
      "source": [
        "**Plotting the training and validation accuracy**"
      ]
    },
    {
      "cell_type": "code",
      "execution_count": null,
      "metadata": {
        "id": "oHcsfHWqSZar"
      },
      "outputs": [],
      "source": [
        "plt.clf()\n",
        "acc = history_dict[\"accuracy\"]\n",
        "val_acc = history_dict[\"val_accuracy\"]\n",
        "plt.plot(epochs, acc, \"bo\", label=\"Training acc\")\n",
        "plt.plot(epochs, val_acc, \"b\", label=\"Validation acc\")\n",
        "plt.title(\"Training and validation accuracy\")\n",
        "plt.xlabel(\"Epochs\")\n",
        "plt.ylabel(\"Accuracy\")\n",
        "plt.legend()\n",
        "plt.show()"
      ]
    },
    {
      "cell_type": "markdown",
      "metadata": {
        "id": "FvgtLKPqSZar"
      },
      "source": [
        "**Retraining a model from scratch**"
      ]
    },
    {
      "cell_type": "code",
      "execution_count": null,
      "metadata": {
        "id": "CFLpIZFASZas"
      },
      "outputs": [],
      "source": [
        "model = keras.Sequential([\n",
        "    layers.Dense(16, activation=\"relu\"),\n",
        "    layers.Dense(16, activation=\"relu\"),\n",
        "    layers.Dense(1, activation=\"sigmoid\")\n",
        "])\n",
        "model.compile(optimizer=\"rmsprop\",\n",
        "              loss=\"binary_crossentropy\",\n",
        "              metrics=[\"accuracy\"])\n",
        "model.fit(x_train, y_train, epochs=4, batch_size=512)\n",
        "results = model.evaluate(x_test, y_test)"
      ]
    },
    {
      "cell_type": "code",
      "execution_count": null,
      "metadata": {
        "id": "sJy0TfrgSZas"
      },
      "outputs": [],
      "source": [
        "results"
      ]
    },
    {
      "cell_type": "markdown",
      "metadata": {
        "id": "N5hhjey2SZas"
      },
      "source": [
        "### Using a trained model to generate predictions on new data"
      ]
    },
    {
      "cell_type": "code",
      "execution_count": null,
      "metadata": {
        "id": "nK6AYC_SSZas"
      },
      "outputs": [],
      "source": [
        "model.predict(x_test)"
      ]
    },
    {
      "cell_type": "markdown",
      "metadata": {
        "id": "Y3hI8t5YSZas"
      },
      "source": [
        "### Further experiments"
      ]
    },
    {
      "cell_type": "markdown",
      "metadata": {
        "id": "jliyTch-SZas"
      },
      "source": [
        "### Wrapping up"
      ]
    },
    {
      "cell_type": "markdown",
      "metadata": {
        "id": "C-XuzMVeSZas"
      },
      "source": [
        "## Classifying newswires: A multiclass classification example"
      ]
    },
    {
      "cell_type": "markdown",
      "metadata": {
        "id": "__JlP61FSZa6"
      },
      "source": [
        "### The Reuters dataset"
      ]
    },
    {
      "cell_type": "markdown",
      "metadata": {
        "id": "0UnETF_XSZa6"
      },
      "source": [
        "**Loading the Reuters dataset**"
      ]
    },
    {
      "cell_type": "code",
      "execution_count": null,
      "metadata": {
        "id": "3vZE8t4vSZa6"
      },
      "outputs": [],
      "source": [
        "from tensorflow.keras.datasets import reuters\n",
        "(train_data, train_labels), (test_data, test_labels) = reuters.load_data(\n",
        "    num_words=10000)"
      ]
    },
    {
      "cell_type": "code",
      "execution_count": null,
      "metadata": {
        "id": "uMAM5T5SSZa7"
      },
      "outputs": [],
      "source": [
        "len(train_data)"
      ]
    },
    {
      "cell_type": "code",
      "execution_count": null,
      "metadata": {
        "id": "dc3iKS4nSZa7"
      },
      "outputs": [],
      "source": [
        "len(test_data)"
      ]
    },
    {
      "cell_type": "code",
      "execution_count": null,
      "metadata": {
        "id": "BdA9fz3YSZa7"
      },
      "outputs": [],
      "source": [
        "train_data[10]"
      ]
    },
    {
      "cell_type": "markdown",
      "metadata": {
        "id": "UifCgDn9SZa7"
      },
      "source": [
        "**Decoding newswires back to text**"
      ]
    },
    {
      "cell_type": "code",
      "execution_count": null,
      "metadata": {
        "id": "07HswQ4ZSZa7"
      },
      "outputs": [],
      "source": [
        "word_index = reuters.get_word_index()\n",
        "reverse_word_index = dict([(value, key) for (key, value) in word_index.items()])\n",
        "decoded_newswire = \" \".join([reverse_word_index.get(i - 3, \"?\") for i in\n",
        "    train_data[0]])"
      ]
    },
    {
      "cell_type": "code",
      "execution_count": null,
      "metadata": {
        "id": "uV5ozo18SZa8"
      },
      "outputs": [],
      "source": [
        "train_labels[10]"
      ]
    },
    {
      "cell_type": "markdown",
      "metadata": {
        "id": "c3SmJpBZSZa8"
      },
      "source": [
        "### Preparing the data"
      ]
    },
    {
      "cell_type": "markdown",
      "metadata": {
        "id": "1xcG2Q73SZa8"
      },
      "source": [
        "**Encoding the input data**"
      ]
    },
    {
      "cell_type": "code",
      "execution_count": null,
      "metadata": {
        "id": "xqp0kbMFSZa8"
      },
      "outputs": [],
      "source": [
        "x_train = vectorize_sequences(train_data)\n",
        "x_test = vectorize_sequences(test_data)"
      ]
    },
    {
      "cell_type": "markdown",
      "metadata": {
        "id": "BdyzgSlQSZa8"
      },
      "source": [
        "**Encoding the labels**"
      ]
    },
    {
      "cell_type": "code",
      "execution_count": null,
      "metadata": {
        "id": "5BscPVMgSZa8"
      },
      "outputs": [],
      "source": [
        "def to_one_hot(labels, dimension=46):\n",
        "    results = np.zeros((len(labels), dimension))\n",
        "    for i, label in enumerate(labels):\n",
        "        results[i, label] = 1.\n",
        "    return results\n",
        "y_train = to_one_hot(train_labels)\n",
        "y_test = to_one_hot(test_labels)"
      ]
    },
    {
      "cell_type": "code",
      "execution_count": null,
      "metadata": {
        "id": "ccwONSkbSZa9"
      },
      "outputs": [],
      "source": [
        "from tensorflow.keras.utils import to_categorical\n",
        "y_train = to_categorical(train_labels)\n",
        "y_test = to_categorical(test_labels)"
      ]
    },
    {
      "cell_type": "markdown",
      "metadata": {
        "id": "wTmY1U2-SZa9"
      },
      "source": [
        "### Building your model"
      ]
    },
    {
      "cell_type": "markdown",
      "metadata": {
        "id": "M10kH1lfSZa9"
      },
      "source": [
        "**Model definition**"
      ]
    },
    {
      "cell_type": "code",
      "execution_count": null,
      "metadata": {
        "id": "1pAFWzNwSZa9"
      },
      "outputs": [],
      "source": [
        "model = keras.Sequential([\n",
        "    layers.Dense(64, activation=\"relu\"),\n",
        "    layers.Dense(64, activation=\"relu\"),\n",
        "    layers.Dense(46, activation=\"softmax\")\n",
        "])"
      ]
    },
    {
      "cell_type": "markdown",
      "metadata": {
        "id": "1mDQ8pczSZa9"
      },
      "source": [
        "**Compiling the model**"
      ]
    },
    {
      "cell_type": "code",
      "execution_count": null,
      "metadata": {
        "id": "ktwy3jWFSZa9"
      },
      "outputs": [],
      "source": [
        "model.compile(optimizer=\"rmsprop\",\n",
        "              loss=\"categorical_crossentropy\",\n",
        "              metrics=[\"accuracy\"])"
      ]
    },
    {
      "cell_type": "markdown",
      "metadata": {
        "id": "5WdKO6V_SZa-"
      },
      "source": [
        "### Validating your approach"
      ]
    },
    {
      "cell_type": "markdown",
      "metadata": {
        "id": "3Ag0RvxwSZa-"
      },
      "source": [
        "**Setting aside a validation set**"
      ]
    },
    {
      "cell_type": "code",
      "execution_count": null,
      "metadata": {
        "id": "VwcxbaVjSZa-"
      },
      "outputs": [],
      "source": [
        "x_val = x_train[:1000]\n",
        "partial_x_train = x_train[1000:]\n",
        "y_val = y_train[:1000]\n",
        "partial_y_train = y_train[1000:]"
      ]
    },
    {
      "cell_type": "markdown",
      "metadata": {
        "id": "BEK8qEXLSZa-"
      },
      "source": [
        "**Training the model**"
      ]
    },
    {
      "cell_type": "code",
      "execution_count": null,
      "metadata": {
        "id": "TzM4D9MTSZa-"
      },
      "outputs": [],
      "source": [
        "history = model.fit(partial_x_train,\n",
        "                    partial_y_train,\n",
        "                    epochs=20,\n",
        "                    batch_size=512,\n",
        "                    validation_data=(x_val, y_val))"
      ]
    },
    {
      "cell_type": "markdown",
      "metadata": {
        "id": "Crql6OnjSZa-"
      },
      "source": [
        "**Plotting the training and validation loss**"
      ]
    },
    {
      "cell_type": "code",
      "execution_count": null,
      "metadata": {
        "id": "SlzguWS-SZa_"
      },
      "outputs": [],
      "source": [
        "loss = history.history[\"loss\"]\n",
        "val_loss = history.history[\"val_loss\"]\n",
        "epochs = range(1, len(loss) + 1)\n",
        "plt.plot(epochs, loss, \"bo\", label=\"Training loss\")\n",
        "plt.plot(epochs, val_loss, \"b\", label=\"Validation loss\")\n",
        "plt.title(\"Training and validation loss\")\n",
        "plt.xlabel(\"Epochs\")\n",
        "plt.ylabel(\"Loss\")\n",
        "plt.legend()\n",
        "plt.show()"
      ]
    },
    {
      "cell_type": "markdown",
      "metadata": {
        "id": "HQywS5IMSZa_"
      },
      "source": [
        "**Plotting the training and validation accuracy**"
      ]
    },
    {
      "cell_type": "code",
      "execution_count": null,
      "metadata": {
        "id": "fwPRDJj4SZa_"
      },
      "outputs": [],
      "source": [
        "plt.clf()\n",
        "acc = history.history[\"accuracy\"]\n",
        "val_acc = history.history[\"val_accuracy\"]\n",
        "plt.plot(epochs, acc, \"bo\", label=\"Training accuracy\")\n",
        "plt.plot(epochs, val_acc, \"b\", label=\"Validation accuracy\")\n",
        "plt.title(\"Training and validation accuracy\")\n",
        "plt.xlabel(\"Epochs\")\n",
        "plt.ylabel(\"Accuracy\")\n",
        "plt.legend()\n",
        "plt.show()"
      ]
    },
    {
      "cell_type": "markdown",
      "metadata": {
        "id": "kin2oe1jSZa_"
      },
      "source": [
        "**Retraining a model from scratch**"
      ]
    },
    {
      "cell_type": "code",
      "execution_count": null,
      "metadata": {
        "id": "5qe30oyDSZa_"
      },
      "outputs": [],
      "source": [
        "model = keras.Sequential([\n",
        "  layers.Dense(64, activation=\"relu\"),\n",
        "  layers.Dense(64, activation=\"relu\"),\n",
        "  layers.Dense(46, activation=\"softmax\")\n",
        "])\n",
        "model.compile(optimizer=\"rmsprop\",\n",
        "              loss=\"categorical_crossentropy\",\n",
        "              metrics=[\"accuracy\"])\n",
        "model.fit(x_train,\n",
        "          y_train,\n",
        "          epochs=9,\n",
        "          batch_size=512)\n",
        "results = model.evaluate(x_test, y_test)"
      ]
    },
    {
      "cell_type": "code",
      "execution_count": null,
      "metadata": {
        "id": "JcxYSCEKSZa_"
      },
      "outputs": [],
      "source": [
        "results"
      ]
    },
    {
      "cell_type": "code",
      "execution_count": null,
      "metadata": {
        "id": "UslV0TRgSZbA"
      },
      "outputs": [],
      "source": [
        "import copy\n",
        "test_labels_copy = copy.copy(test_labels)\n",
        "np.random.shuffle(test_labels_copy)\n",
        "hits_array = np.array(test_labels) == np.array(test_labels_copy)\n",
        "hits_array.mean()"
      ]
    },
    {
      "cell_type": "markdown",
      "metadata": {
        "id": "UcRtYTwZSZbA"
      },
      "source": [
        "### Generating predictions on new data"
      ]
    },
    {
      "cell_type": "code",
      "execution_count": null,
      "metadata": {
        "id": "4G1u3ivWSZbA"
      },
      "outputs": [],
      "source": [
        "predictions = model.predict(x_test)"
      ]
    },
    {
      "cell_type": "code",
      "execution_count": null,
      "metadata": {
        "id": "QKCLG030SZbA"
      },
      "outputs": [],
      "source": [
        "predictions[0].shape"
      ]
    },
    {
      "cell_type": "code",
      "execution_count": null,
      "metadata": {
        "id": "EHtwXp9CSZbA"
      },
      "outputs": [],
      "source": [
        "np.sum(predictions[0])"
      ]
    },
    {
      "cell_type": "code",
      "execution_count": null,
      "metadata": {
        "id": "cRpBPyTgSZbB"
      },
      "outputs": [],
      "source": [
        "np.argmax(predictions[0])"
      ]
    },
    {
      "cell_type": "markdown",
      "metadata": {
        "id": "kl20033PSZbB"
      },
      "source": [
        "### A different way to handle the labels and the loss"
      ]
    },
    {
      "cell_type": "code",
      "execution_count": null,
      "metadata": {
        "id": "zKa7RnaISZbB"
      },
      "outputs": [],
      "source": [
        "y_train = np.array(train_labels)\n",
        "y_test = np.array(test_labels)"
      ]
    },
    {
      "cell_type": "code",
      "execution_count": null,
      "metadata": {
        "id": "IHCO6P83SZbB"
      },
      "outputs": [],
      "source": [
        "model.compile(optimizer=\"rmsprop\",\n",
        "              loss=\"sparse_categorical_crossentropy\",\n",
        "              metrics=[\"accuracy\"])"
      ]
    },
    {
      "cell_type": "markdown",
      "metadata": {
        "id": "SlI5_D7YSZbB"
      },
      "source": [
        "### The importance of having sufficiently large intermediate layers"
      ]
    },
    {
      "cell_type": "markdown",
      "metadata": {
        "id": "RjNycsyPSZbB"
      },
      "source": [
        "**A model with an information bottleneck**"
      ]
    },
    {
      "cell_type": "code",
      "execution_count": null,
      "metadata": {
        "id": "qi33oE5hSZbB"
      },
      "outputs": [],
      "source": [
        "model = keras.Sequential([\n",
        "    layers.Dense(64, activation=\"relu\"),\n",
        "    layers.Dense(4, activation=\"relu\"),\n",
        "    layers.Dense(46, activation=\"softmax\")\n",
        "])\n",
        "model.compile(optimizer=\"rmsprop\",\n",
        "              loss=\"categorical_crossentropy\",\n",
        "              metrics=[\"accuracy\"])\n",
        "model.fit(partial_x_train,\n",
        "          partial_y_train,\n",
        "          epochs=20,\n",
        "          batch_size=128,\n",
        "          validation_data=(x_val, y_val))"
      ]
    },
    {
      "cell_type": "markdown",
      "metadata": {
        "id": "pkUqSrZCSZbC"
      },
      "source": [
        "### Further experiments"
      ]
    },
    {
      "cell_type": "markdown",
      "metadata": {
        "id": "1BXuejLzSZbC"
      },
      "source": [
        "### Wrapping up"
      ]
    },
    {
      "cell_type": "markdown",
      "metadata": {
        "id": "EOki7feHSZbC"
      },
      "source": [
        "## Predicting house prices: A regression example"
      ]
    },
    {
      "cell_type": "markdown",
      "metadata": {
        "id": "9FGrsRX-SZbC"
      },
      "source": [
        "### The Boston Housing Price dataset"
      ]
    },
    {
      "cell_type": "markdown",
      "metadata": {
        "id": "OwB7HFlGSZbC"
      },
      "source": [
        "**Loading the Boston housing dataset**"
      ]
    },
    {
      "cell_type": "code",
      "execution_count": 1,
      "metadata": {
        "colab": {
          "base_uri": "https://localhost:8080/"
        },
        "id": "9GGpi0V3SZbD",
        "outputId": "b792dd04-b309-4a1d-d7d4-11676ca92bdb"
      },
      "outputs": [
        {
          "output_type": "stream",
          "name": "stdout",
          "text": [
            "Downloading data from https://storage.googleapis.com/tensorflow/tf-keras-datasets/boston_housing.npz\n",
            "\u001b[1m57026/57026\u001b[0m \u001b[32m━━━━━━━━━━━━━━━━━━━━\u001b[0m\u001b[37m\u001b[0m \u001b[1m0s\u001b[0m 0us/step\n"
          ]
        }
      ],
      "source": [
        "from tensorflow.keras.datasets import boston_housing\n",
        "(train_data, train_targets), (test_data, test_targets) = boston_housing.load_data()"
      ]
    },
    {
      "cell_type": "code",
      "execution_count": 2,
      "metadata": {
        "colab": {
          "base_uri": "https://localhost:8080/"
        },
        "id": "O0SqqgNASZbD",
        "outputId": "6ab954c6-b178-475a-83de-a9a14e381375"
      },
      "outputs": [
        {
          "output_type": "execute_result",
          "data": {
            "text/plain": [
              "(404, 13)"
            ]
          },
          "metadata": {},
          "execution_count": 2
        }
      ],
      "source": [
        "train_data.shape # (404, 13) → data 수 적음 → Cross Validation"
      ]
    },
    {
      "cell_type": "code",
      "execution_count": 3,
      "metadata": {
        "colab": {
          "base_uri": "https://localhost:8080/"
        },
        "id": "Q5hsa0-_SZbD",
        "outputId": "1da7d9a7-d559-4d38-ed13-60107d71bf5c"
      },
      "outputs": [
        {
          "output_type": "execute_result",
          "data": {
            "text/plain": [
              "(102, 13)"
            ]
          },
          "metadata": {},
          "execution_count": 3
        }
      ],
      "source": [
        "test_data.shape # (102, 13)"
      ]
    },
    {
      "cell_type": "code",
      "execution_count": 4,
      "metadata": {
        "collapsed": true,
        "colab": {
          "base_uri": "https://localhost:8080/"
        },
        "id": "vbJA4ornSZbD",
        "outputId": "8bd498d6-9319-4498-b1e4-be2ae50d81a9"
      },
      "outputs": [
        {
          "output_type": "execute_result",
          "data": {
            "text/plain": [
              "array([15.2, 42.3, 50. , 21.1, 17.7, 18.5, 11.3, 15.6, 15.6, 14.4, 12.1,\n",
              "       17.9, 23.1, 19.9, 15.7,  8.8, 50. , 22.5, 24.1, 27.5, 10.9, 30.8,\n",
              "       32.9, 24. , 18.5, 13.3, 22.9, 34.7, 16.6, 17.5, 22.3, 16.1, 14.9,\n",
              "       23.1, 34.9, 25. , 13.9, 13.1, 20.4, 20. , 15.2, 24.7, 22.2, 16.7,\n",
              "       12.7, 15.6, 18.4, 21. , 30.1, 15.1, 18.7,  9.6, 31.5, 24.8, 19.1,\n",
              "       22. , 14.5, 11. , 32. , 29.4, 20.3, 24.4, 14.6, 19.5, 14.1, 14.3,\n",
              "       15.6, 10.5,  6.3, 19.3, 19.3, 13.4, 36.4, 17.8, 13.5, 16.5,  8.3,\n",
              "       14.3, 16. , 13.4, 28.6, 43.5, 20.2, 22. , 23. , 20.7, 12.5, 48.5,\n",
              "       14.6, 13.4, 23.7, 50. , 21.7, 39.8, 38.7, 22.2, 34.9, 22.5, 31.1,\n",
              "       28.7, 46. , 41.7, 21. , 26.6, 15. , 24.4, 13.3, 21.2, 11.7, 21.7,\n",
              "       19.4, 50. , 22.8, 19.7, 24.7, 36.2, 14.2, 18.9, 18.3, 20.6, 24.6,\n",
              "       18.2,  8.7, 44. , 10.4, 13.2, 21.2, 37. , 30.7, 22.9, 20. , 19.3,\n",
              "       31.7, 32. , 23.1, 18.8, 10.9, 50. , 19.6,  5. , 14.4, 19.8, 13.8,\n",
              "       19.6, 23.9, 24.5, 25. , 19.9, 17.2, 24.6, 13.5, 26.6, 21.4, 11.9,\n",
              "       22.6, 19.6,  8.5, 23.7, 23.1, 22.4, 20.5, 23.6, 18.4, 35.2, 23.1,\n",
              "       27.9, 20.6, 23.7, 28. , 13.6, 27.1, 23.6, 20.6, 18.2, 21.7, 17.1,\n",
              "        8.4, 25.3, 13.8, 22.2, 18.4, 20.7, 31.6, 30.5, 20.3,  8.8, 19.2,\n",
              "       19.4, 23.1, 23. , 14.8, 48.8, 22.6, 33.4, 21.1, 13.6, 32.2, 13.1,\n",
              "       23.4, 18.9, 23.9, 11.8, 23.3, 22.8, 19.6, 16.7, 13.4, 22.2, 20.4,\n",
              "       21.8, 26.4, 14.9, 24.1, 23.8, 12.3, 29.1, 21. , 19.5, 23.3, 23.8,\n",
              "       17.8, 11.5, 21.7, 19.9, 25. , 33.4, 28.5, 21.4, 24.3, 27.5, 33.1,\n",
              "       16.2, 23.3, 48.3, 22.9, 22.8, 13.1, 12.7, 22.6, 15. , 15.3, 10.5,\n",
              "       24. , 18.5, 21.7, 19.5, 33.2, 23.2,  5. , 19.1, 12.7, 22.3, 10.2,\n",
              "       13.9, 16.3, 17. , 20.1, 29.9, 17.2, 37.3, 45.4, 17.8, 23.2, 29. ,\n",
              "       22. , 18. , 17.4, 34.6, 20.1, 25. , 15.6, 24.8, 28.2, 21.2, 21.4,\n",
              "       23.8, 31. , 26.2, 17.4, 37.9, 17.5, 20. ,  8.3, 23.9,  8.4, 13.8,\n",
              "        7.2, 11.7, 17.1, 21.6, 50. , 16.1, 20.4, 20.6, 21.4, 20.6, 36.5,\n",
              "        8.5, 24.8, 10.8, 21.9, 17.3, 18.9, 36.2, 14.9, 18.2, 33.3, 21.8,\n",
              "       19.7, 31.6, 24.8, 19.4, 22.8,  7.5, 44.8, 16.8, 18.7, 50. , 50. ,\n",
              "       19.5, 20.1, 50. , 17.2, 20.8, 19.3, 41.3, 20.4, 20.5, 13.8, 16.5,\n",
              "       23.9, 20.6, 31.5, 23.3, 16.8, 14. , 33.8, 36.1, 12.8, 18.3, 18.7,\n",
              "       19.1, 29. , 30.1, 50. , 50. , 22. , 11.9, 37.6, 50. , 22.7, 20.8,\n",
              "       23.5, 27.9, 50. , 19.3, 23.9, 22.6, 15.2, 21.7, 19.2, 43.8, 20.3,\n",
              "       33.2, 19.9, 22.5, 32.7, 22. , 17.1, 19. , 15. , 16.1, 25.1, 23.7,\n",
              "       28.7, 37.2, 22.6, 16.4, 25. , 29.8, 22.1, 17.4, 18.1, 30.3, 17.5,\n",
              "       24.7, 12.6, 26.5, 28.7, 13.3, 10.4, 24.4, 23. , 20. , 17.8,  7. ,\n",
              "       11.8, 24.4, 13.8, 19.4, 25.2, 19.4, 19.4, 29.1])"
            ]
          },
          "metadata": {},
          "execution_count": 4
        }
      ],
      "source": [
        "train_targets"
      ]
    },
    {
      "cell_type": "markdown",
      "metadata": {
        "id": "zohH2ImrSZbD"
      },
      "source": [
        "### Preparing the data"
      ]
    },
    {
      "cell_type": "markdown",
      "metadata": {
        "id": "RzPqs7m7SZbD"
      },
      "source": [
        "**Normalizing the data**"
      ]
    },
    {
      "cell_type": "code",
      "execution_count": 5,
      "metadata": {
        "id": "7jTyfkhtSZbD"
      },
      "outputs": [],
      "source": [
        "mean = train_data.mean(axis=0)\n",
        "train_data -= mean\n",
        "std = train_data.std(axis=0)\n",
        "train_data /= std\n",
        "test_data -= mean\n",
        "test_data /= std"
      ]
    },
    {
      "cell_type": "code",
      "source": [
        "train_data[:2]"
      ],
      "metadata": {
        "colab": {
          "base_uri": "https://localhost:8080/"
        },
        "id": "9xNAQw3BTKNb",
        "outputId": "cd181b66-315d-4404-b344-971b545273d6"
      },
      "execution_count": 6,
      "outputs": [
        {
          "output_type": "execute_result",
          "data": {
            "text/plain": [
              "array([[-0.27224633, -0.48361547, -0.43576161, -0.25683275, -0.1652266 ,\n",
              "        -0.1764426 ,  0.81306188,  0.1166983 , -0.62624905, -0.59517003,\n",
              "         1.14850044,  0.44807713,  0.8252202 ],\n",
              "       [-0.40342651,  2.99178419, -1.33391162, -0.25683275, -1.21518188,\n",
              "         1.89434613, -1.91036058,  1.24758524, -0.85646254, -0.34843254,\n",
              "        -1.71818909,  0.43190599, -1.32920239]])"
            ]
          },
          "metadata": {},
          "execution_count": 6
        }
      ]
    },
    {
      "cell_type": "markdown",
      "metadata": {
        "id": "Q-LQ0_JWSZbG"
      },
      "source": [
        "### Building your model"
      ]
    },
    {
      "cell_type": "markdown",
      "metadata": {
        "id": "1tkJvyjmSZbG"
      },
      "source": [
        "**Model definition**"
      ]
    },
    {
      "cell_type": "code",
      "execution_count": 7,
      "metadata": {
        "id": "Y9es6UmgSZbH"
      },
      "outputs": [],
      "source": [
        "def build_model():\n",
        "    model = keras.Sequential([\n",
        "        layers.Dense(64, activation=\"relu\"),\n",
        "        layers.Dense(64, activation=\"relu\"),\n",
        "        #layers.Dense(64, activation=\"relu\") # layer 추가\n",
        "        layers.Dense(1) # regression → 1 output\n",
        "    ])\n",
        "\n",
        "    # loss vs. metrics\n",
        "    # loss: calculation of the cost C(theta) = Sum L(y_hat, y) - **differentiable to theta**\n",
        "    # metrics: cost와 무관, show the reuslt (monitoring), 여러 metric 사용 가능\n",
        "    model.compile(optimizer=\"rmsprop\", loss=\"mse\", metrics=[\"mae\"])\n",
        "    return model"
      ]
    },
    {
      "cell_type": "markdown",
      "metadata": {
        "id": "IO-RqJ3USZbH"
      },
      "source": [
        "### Validating your approach using K-fold validation"
      ]
    },
    {
      "cell_type": "markdown",
      "metadata": {
        "id": "jtYbh53sSZbH"
      },
      "source": [
        "**K-fold validation**"
      ]
    },
    {
      "cell_type": "code",
      "source": [
        "from tensorflow import keras\n",
        "from tensorflow.keras import layers\n",
        "import numpy as np"
      ],
      "metadata": {
        "id": "MMWGEurgUCcB"
      },
      "execution_count": 14,
      "outputs": []
    },
    {
      "cell_type": "code",
      "source": [
        "k=4\n",
        "num_val_samples = len(train_data) // k\n",
        "num_epochs = 100\n",
        "\n",
        "for i in range(k):\n",
        "    print(f\"Fold {i+1}: {i*num_val_samples}, {(i+1)*num_val_samples}\")"
      ],
      "metadata": {
        "colab": {
          "base_uri": "https://localhost:8080/"
        },
        "id": "F2nMZfE7Truk",
        "outputId": "61d9de28-5195-47a0-c07c-359211b24c8f"
      },
      "execution_count": 10,
      "outputs": [
        {
          "output_type": "stream",
          "name": "stdout",
          "text": [
            "Fold 1: 0, 101\n",
            "Fold 2: 101, 202\n",
            "Fold 3: 202, 303\n",
            "Fold 4: 303, 404\n"
          ]
        }
      ]
    },
    {
      "cell_type": "code",
      "execution_count": 15,
      "metadata": {
        "colab": {
          "base_uri": "https://localhost:8080/"
        },
        "id": "4I8G7WLaSZbH",
        "outputId": "ec7841d9-6fe8-47fa-ca7a-071e299774f2"
      },
      "outputs": [
        {
          "output_type": "stream",
          "name": "stdout",
          "text": [
            "Processing fold #0\n",
            "Processing fold #1\n",
            "Processing fold #2\n",
            "Processing fold #3\n"
          ]
        }
      ],
      "source": [
        "k = 4\n",
        "num_val_samples = len(train_data) // k\n",
        "num_epochs = 100\n",
        "all_scores = []\n",
        "for i in range(k):\n",
        "    print(f\"Processing fold #{i}\")\n",
        "    val_data = train_data[i * num_val_samples: (i + 1) * num_val_samples]\n",
        "    val_targets = train_targets[i * num_val_samples: (i + 1) * num_val_samples]\n",
        "    partial_train_data = np.concatenate(\n",
        "        [train_data[:i * num_val_samples],\n",
        "         train_data[(i + 1) * num_val_samples:]],\n",
        "        axis=0)\n",
        "    partial_train_targets = np.concatenate(\n",
        "        [train_targets[:i * num_val_samples],\n",
        "         train_targets[(i + 1) * num_val_samples:]],\n",
        "        axis=0)\n",
        "    model = build_model()\n",
        "    model.fit(partial_train_data, partial_train_targets,\n",
        "              epochs=num_epochs, batch_size=16, verbose=0) # did not save history of model fit → next code !\n",
        "    val_mse, val_mae = model.evaluate(val_data, val_targets, verbose=0)\n",
        "    all_scores.append(val_mae)"
      ]
    },
    {
      "cell_type": "code",
      "execution_count": 16,
      "metadata": {
        "colab": {
          "base_uri": "https://localhost:8080/"
        },
        "id": "jGt-vn3wSZbH",
        "outputId": "ac6c8339-08b9-4ce7-dfbc-e2a4aba5e2aa"
      },
      "outputs": [
        {
          "output_type": "execute_result",
          "data": {
            "text/plain": [
              "[2.098255157470703, 2.4404537677764893, 2.456472396850586, 2.274592876434326]"
            ]
          },
          "metadata": {},
          "execution_count": 16
        }
      ],
      "source": [
        "all_scores # validation mae"
      ]
    },
    {
      "cell_type": "code",
      "execution_count": 17,
      "metadata": {
        "colab": {
          "base_uri": "https://localhost:8080/"
        },
        "id": "fTZWpT1zSZbH",
        "outputId": "8e11a205-69a9-44c4-b343-59ddf35ccc9c"
      },
      "outputs": [
        {
          "output_type": "execute_result",
          "data": {
            "text/plain": [
              "np.float64(2.317443549633026)"
            ]
          },
          "metadata": {},
          "execution_count": 17
        }
      ],
      "source": [
        "np.mean(all_scores)"
      ]
    },
    {
      "cell_type": "markdown",
      "metadata": {
        "id": "mHLBTGJ1SZbI"
      },
      "source": [
        "**Saving the validation logs at each fold**"
      ]
    },
    {
      "cell_type": "code",
      "execution_count": 18,
      "metadata": {
        "colab": {
          "base_uri": "https://localhost:8080/"
        },
        "id": "PEbvJXjZSZbI",
        "outputId": "7a119de8-0189-4d35-c7d0-c196fe61327c"
      },
      "outputs": [
        {
          "output_type": "stream",
          "name": "stdout",
          "text": [
            "Processing fold #0\n",
            "Processing fold #1\n",
            "Processing fold #2\n",
            "Processing fold #3\n"
          ]
        }
      ],
      "source": [
        "num_epochs = 500\n",
        "all_mae_histories = []\n",
        "for i in range(k):\n",
        "    print(f\"Processing fold #{i}\")\n",
        "    val_data = train_data[i * num_val_samples: (i + 1) * num_val_samples]\n",
        "    val_targets = train_targets[i * num_val_samples: (i + 1) * num_val_samples]\n",
        "    partial_train_data = np.concatenate(\n",
        "        [train_data[:i * num_val_samples],\n",
        "         train_data[(i + 1) * num_val_samples:]],\n",
        "        axis=0)\n",
        "    partial_train_targets = np.concatenate(\n",
        "        [train_targets[:i * num_val_samples],\n",
        "         train_targets[(i + 1) * num_val_samples:]],\n",
        "        axis=0)\n",
        "    model = build_model()\n",
        "    history = model.fit(partial_train_data, partial_train_targets, # save the model history\n",
        "                        validation_data=(val_data, val_targets),\n",
        "                        epochs=num_epochs, batch_size=16, verbose=0)\n",
        "    mae_history = history.history[\"val_mae\"]\n",
        "    all_mae_histories.append(mae_history)"
      ]
    },
    {
      "cell_type": "code",
      "source": [
        "#print(f\"all_mae_histories: {all_mae_histories}\")\n",
        "print(f\"len(all_mae_histories): {len(all_mae_histories)}\")\n",
        "print(f\"len(all_mae_histories[0]): {len(all_mae_histories[0])}\")"
      ],
      "metadata": {
        "colab": {
          "base_uri": "https://localhost:8080/"
        },
        "id": "LljYGWKyVJZE",
        "outputId": "c96ba042-ab1f-4d7b-cf0a-4c993f6530d4"
      },
      "execution_count": 20,
      "outputs": [
        {
          "output_type": "stream",
          "name": "stdout",
          "text": [
            "len(all_mae_histories): 4\n",
            "len(all_mae_histories[0]): 500\n"
          ]
        }
      ]
    },
    {
      "cell_type": "markdown",
      "metadata": {
        "id": "bTZmpmuBSZbI"
      },
      "source": [
        "**Building the history of successive mean K-fold validation scores**"
      ]
    },
    {
      "cell_type": "code",
      "source": [
        "print([x[0] for x in all_mae_histories])\n",
        "print(np.mean([x[0] for x in all_mae_histories]))"
      ],
      "metadata": {
        "colab": {
          "base_uri": "https://localhost:8080/"
        },
        "id": "6UjtGqcmVi2X",
        "outputId": "65ac399c-3ab7-418e-9f41-63ae77748a2d"
      },
      "execution_count": 22,
      "outputs": [
        {
          "output_type": "stream",
          "name": "stdout",
          "text": [
            "[19.744522094726562, 18.24874496459961, 18.923221588134766, 21.585222244262695]\n",
            "19.625427722930908\n"
          ]
        }
      ]
    },
    {
      "cell_type": "code",
      "execution_count": 23,
      "metadata": {
        "id": "tQ6-144USZbI"
      },
      "outputs": [],
      "source": [
        "average_mae_history = [\n",
        "    np.mean([x[i] for x in all_mae_histories]) for i in range(num_epochs)]\n",
        "# np.array(all_mae_history).mean(axis=0) # 같은 결과"
      ]
    },
    {
      "cell_type": "code",
      "source": [
        "average_mae_history"
      ],
      "metadata": {
        "collapsed": true,
        "colab": {
          "base_uri": "https://localhost:8080/"
        },
        "id": "Dif9yKG-Vr3h",
        "outputId": "29c7a4ae-7b98-465f-9fbc-21e7634e3464"
      },
      "execution_count": 24,
      "outputs": [
        {
          "output_type": "execute_result",
          "data": {
            "text/plain": [
              "[np.float64(19.625427722930908),\n",
              " np.float64(16.318845510482788),\n",
              " np.float64(12.200924158096313),\n",
              " np.float64(8.306000590324402),\n",
              " np.float64(5.940048098564148),\n",
              " np.float64(4.79016900062561),\n",
              " np.float64(4.130077481269836),\n",
              " np.float64(3.747690439224243),\n",
              " np.float64(3.4653992652893066),\n",
              " np.float64(3.3033112287521362),\n",
              " np.float64(3.2185750603675842),\n",
              " np.float64(3.0702179074287415),\n",
              " np.float64(3.004870116710663),\n",
              " np.float64(2.9559921622276306),\n",
              " np.float64(2.858777403831482),\n",
              " np.float64(2.7741335034370422),\n",
              " np.float64(2.7314003705978394),\n",
              " np.float64(2.706776976585388),\n",
              " np.float64(2.6702111959457397),\n",
              " np.float64(2.6469662189483643),\n",
              " np.float64(2.613806426525116),\n",
              " np.float64(2.5911178588867188),\n",
              " np.float64(2.605837106704712),\n",
              " np.float64(2.5874035954475403),\n",
              " np.float64(2.569679081439972),\n",
              " np.float64(2.5819515585899353),\n",
              " np.float64(2.5791801810264587),\n",
              " np.float64(2.5256957411766052),\n",
              " np.float64(2.5425682067871094),\n",
              " np.float64(2.4937520623207092),\n",
              " np.float64(2.5017241835594177),\n",
              " np.float64(2.497863292694092),\n",
              " np.float64(2.477593958377838),\n",
              " np.float64(2.504786491394043),\n",
              " np.float64(2.4517681300640106),\n",
              " np.float64(2.4690250158309937),\n",
              " np.float64(2.5322607159614563),\n",
              " np.float64(2.442897915840149),\n",
              " np.float64(2.4638779163360596),\n",
              " np.float64(2.4383366107940674),\n",
              " np.float64(2.4768752455711365),\n",
              " np.float64(2.435774952173233),\n",
              " np.float64(2.4339097440242767),\n",
              " np.float64(2.4658148288726807),\n",
              " np.float64(2.42002871632576),\n",
              " np.float64(2.5140010714530945),\n",
              " np.float64(2.4738757014274597),\n",
              " np.float64(2.405180901288986),\n",
              " np.float64(2.4857678413391113),\n",
              " np.float64(2.4470726251602173),\n",
              " np.float64(2.4065681397914886),\n",
              " np.float64(2.433527261018753),\n",
              " np.float64(2.418239027261734),\n",
              " np.float64(2.4711624085903168),\n",
              " np.float64(2.41849684715271),\n",
              " np.float64(2.3659279346466064),\n",
              " np.float64(2.3860399425029755),\n",
              " np.float64(2.4380010068416595),\n",
              " np.float64(2.4225122332572937),\n",
              " np.float64(2.4276290833950043),\n",
              " np.float64(2.447011411190033),\n",
              " np.float64(2.3610463440418243),\n",
              " np.float64(2.392718404531479),\n",
              " np.float64(2.4463756680488586),\n",
              " np.float64(2.355101615190506),\n",
              " np.float64(2.365062177181244),\n",
              " np.float64(2.3879148364067078),\n",
              " np.float64(2.3630556166172028),\n",
              " np.float64(2.3429674208164215),\n",
              " np.float64(2.365001380443573),\n",
              " np.float64(2.382515609264374),\n",
              " np.float64(2.3839007914066315),\n",
              " np.float64(2.3640311658382416),\n",
              " np.float64(2.4086158871650696),\n",
              " np.float64(2.393038332462311),\n",
              " np.float64(2.4170923829078674),\n",
              " np.float64(2.377028167247772),\n",
              " np.float64(2.3262060582637787),\n",
              " np.float64(2.3929924368858337),\n",
              " np.float64(2.363012671470642),\n",
              " np.float64(2.388343632221222),\n",
              " np.float64(2.4221079349517822),\n",
              " np.float64(2.4059529304504395),\n",
              " np.float64(2.3618274331092834),\n",
              " np.float64(2.360219419002533),\n",
              " np.float64(2.4174758791923523),\n",
              " np.float64(2.3571278750896454),\n",
              " np.float64(2.370346784591675),\n",
              " np.float64(2.3555445671081543),\n",
              " np.float64(2.3603278398513794),\n",
              " np.float64(2.3168760538101196),\n",
              " np.float64(2.3592051565647125),\n",
              " np.float64(2.375651001930237),\n",
              " np.float64(2.369778633117676),\n",
              " np.float64(2.3525856733322144),\n",
              " np.float64(2.353071689605713),\n",
              " np.float64(2.357399821281433),\n",
              " np.float64(2.379829525947571),\n",
              " np.float64(2.3616204261779785),\n",
              " np.float64(2.385765492916107),\n",
              " np.float64(2.3151339888572693),\n",
              " np.float64(2.3222576379776),\n",
              " np.float64(2.2951747477054596),\n",
              " np.float64(2.423511326313019),\n",
              " np.float64(2.3800121545791626),\n",
              " np.float64(2.3428032398223877),\n",
              " np.float64(2.3819923996925354),\n",
              " np.float64(2.3954824209213257),\n",
              " np.float64(2.339708089828491),\n",
              " np.float64(2.3570114374160767),\n",
              " np.float64(2.3726114630699158),\n",
              " np.float64(2.427185893058777),\n",
              " np.float64(2.3612717986106873),\n",
              " np.float64(2.3843613266944885),\n",
              " np.float64(2.311432123184204),\n",
              " np.float64(2.3629231452941895),\n",
              " np.float64(2.365243136882782),\n",
              " np.float64(2.3421781063079834),\n",
              " np.float64(2.3816428184509277),\n",
              " np.float64(2.3382738828659058),\n",
              " np.float64(2.391105532646179),\n",
              " np.float64(2.3651384711265564),\n",
              " np.float64(2.4158193469047546),\n",
              " np.float64(2.352466881275177),\n",
              " np.float64(2.405399262905121),\n",
              " np.float64(2.40368115901947),\n",
              " np.float64(2.4057018756866455),\n",
              " np.float64(2.3671939373016357),\n",
              " np.float64(2.359995663166046),\n",
              " np.float64(2.352268874645233),\n",
              " np.float64(2.3739800453186035),\n",
              " np.float64(2.3358861804008484),\n",
              " np.float64(2.416515350341797),\n",
              " np.float64(2.3850308656692505),\n",
              " np.float64(2.3934255242347717),\n",
              " np.float64(2.4575271010398865),\n",
              " np.float64(2.3584129214286804),\n",
              " np.float64(2.3909146785736084),\n",
              " np.float64(2.3405834436416626),\n",
              " np.float64(2.4149760007858276),\n",
              " np.float64(2.3968032002449036),\n",
              " np.float64(2.3885767459869385),\n",
              " np.float64(2.3907641768455505),\n",
              " np.float64(2.374619781970978),\n",
              " np.float64(2.4055896401405334),\n",
              " np.float64(2.3867754340171814),\n",
              " np.float64(2.3647530674934387),\n",
              " np.float64(2.3514490723609924),\n",
              " np.float64(2.380833327770233),\n",
              " np.float64(2.402244210243225),\n",
              " np.float64(2.322075605392456),\n",
              " np.float64(2.3358420729637146),\n",
              " np.float64(2.3591315150260925),\n",
              " np.float64(2.4381142258644104),\n",
              " np.float64(2.329023838043213),\n",
              " np.float64(2.3710102438926697),\n",
              " np.float64(2.4082743525505066),\n",
              " np.float64(2.344310700893402),\n",
              " np.float64(2.425640344619751),\n",
              " np.float64(2.362260401248932),\n",
              " np.float64(2.385012209415436),\n",
              " np.float64(2.3498412370681763),\n",
              " np.float64(2.353582978248596),\n",
              " np.float64(2.3762455582618713),\n",
              " np.float64(2.3417436480522156),\n",
              " np.float64(2.4015896320343018),\n",
              " np.float64(2.320241928100586),\n",
              " np.float64(2.3446337580680847),\n",
              " np.float64(2.410615921020508),\n",
              " np.float64(2.457798957824707),\n",
              " np.float64(2.4788716435432434),\n",
              " np.float64(2.3742201924324036),\n",
              " np.float64(2.3968626856803894),\n",
              " np.float64(2.3483879566192627),\n",
              " np.float64(2.468675911426544),\n",
              " np.float64(2.3550720810890198),\n",
              " np.float64(2.4367364048957825),\n",
              " np.float64(2.412225604057312),\n",
              " np.float64(2.3854876160621643),\n",
              " np.float64(2.3574535846710205),\n",
              " np.float64(2.381309151649475),\n",
              " np.float64(2.3471794724464417),\n",
              " np.float64(2.473084509372711),\n",
              " np.float64(2.371673107147217),\n",
              " np.float64(2.3957924842834473),\n",
              " np.float64(2.3808377385139465),\n",
              " np.float64(2.3214608430862427),\n",
              " np.float64(2.4279317259788513),\n",
              " np.float64(2.365226686000824),\n",
              " np.float64(2.33044570684433),\n",
              " np.float64(2.3946680426597595),\n",
              " np.float64(2.4425177574157715),\n",
              " np.float64(2.3902653455734253),\n",
              " np.float64(2.388463795185089),\n",
              " np.float64(2.393505573272705),\n",
              " np.float64(2.335162341594696),\n",
              " np.float64(2.390388548374176),\n",
              " np.float64(2.351096749305725),\n",
              " np.float64(2.3735631704330444),\n",
              " np.float64(2.4389607906341553),\n",
              " np.float64(2.3823304176330566),\n",
              " np.float64(2.4169049859046936),\n",
              " np.float64(2.3745447397232056),\n",
              " np.float64(2.336036741733551),\n",
              " np.float64(2.432900071144104),\n",
              " np.float64(2.367776036262512),\n",
              " np.float64(2.3968987464904785),\n",
              " np.float64(2.3789786100387573),\n",
              " np.float64(2.4021637439727783),\n",
              " np.float64(2.3918237686157227),\n",
              " np.float64(2.4031699895858765),\n",
              " np.float64(2.373582899570465),\n",
              " np.float64(2.481787323951721),\n",
              " np.float64(2.4083359837532043),\n",
              " np.float64(2.442562222480774),\n",
              " np.float64(2.371688187122345),\n",
              " np.float64(2.392746925354004),\n",
              " np.float64(2.3650370836257935),\n",
              " np.float64(2.4475460052490234),\n",
              " np.float64(2.3846413493156433),\n",
              " np.float64(2.4604726433753967),\n",
              " np.float64(2.335379898548126),\n",
              " np.float64(2.4115853905677795),\n",
              " np.float64(2.3761252760887146),\n",
              " np.float64(2.3908416628837585),\n",
              " np.float64(2.446344256401062),\n",
              " np.float64(2.352726459503174),\n",
              " np.float64(2.4012837409973145),\n",
              " np.float64(2.4635610580444336),\n",
              " np.float64(2.457087218761444),\n",
              " np.float64(2.3576109409332275),\n",
              " np.float64(2.4216551780700684),\n",
              " np.float64(2.3883209228515625),\n",
              " np.float64(2.3604111075401306),\n",
              " np.float64(2.394096314907074),\n",
              " np.float64(2.4202046394348145),\n",
              " np.float64(2.3920249938964844),\n",
              " np.float64(2.399985194206238),\n",
              " np.float64(2.4241798520088196),\n",
              " np.float64(2.3922755122184753),\n",
              " np.float64(2.3765289187431335),\n",
              " np.float64(2.4267879724502563),\n",
              " np.float64(2.4170928597450256),\n",
              " np.float64(2.4105653166770935),\n",
              " np.float64(2.381776213645935),\n",
              " np.float64(2.4658275842666626),\n",
              " np.float64(2.370215952396393),\n",
              " np.float64(2.3862736225128174),\n",
              " np.float64(2.418225049972534),\n",
              " np.float64(2.3892648816108704),\n",
              " np.float64(2.4139033555984497),\n",
              " np.float64(2.431906998157501),\n",
              " np.float64(2.3661823868751526),\n",
              " np.float64(2.4793004393577576),\n",
              " np.float64(2.4334341883659363),\n",
              " np.float64(2.403068959712982),\n",
              " np.float64(2.4031437039375305),\n",
              " np.float64(2.3445810675621033),\n",
              " np.float64(2.438122868537903),\n",
              " np.float64(2.420415222644806),\n",
              " np.float64(2.394212007522583),\n",
              " np.float64(2.4005003571510315),\n",
              " np.float64(2.423673689365387),\n",
              " np.float64(2.348667562007904),\n",
              " np.float64(2.396636426448822),\n",
              " np.float64(2.4041526913642883),\n",
              " np.float64(2.3822600841522217),\n",
              " np.float64(2.4879512190818787),\n",
              " np.float64(2.4441208839416504),\n",
              " np.float64(2.437907040119171),\n",
              " np.float64(2.419443666934967),\n",
              " np.float64(2.391170382499695),\n",
              " np.float64(2.402315676212311),\n",
              " np.float64(2.5307385325431824),\n",
              " np.float64(2.4366175532341003),\n",
              " np.float64(2.4870669841766357),\n",
              " np.float64(2.432317852973938),\n",
              " np.float64(2.4538767337799072),\n",
              " np.float64(2.503005623817444),\n",
              " np.float64(2.3782179951667786),\n",
              " np.float64(2.4628549218177795),\n",
              " np.float64(2.5198516845703125),\n",
              " np.float64(2.4399765729904175),\n",
              " np.float64(2.4353399872779846),\n",
              " np.float64(2.412783205509186),\n",
              " np.float64(2.410772919654846),\n",
              " np.float64(2.4771557450294495),\n",
              " np.float64(2.4400569796562195),\n",
              " np.float64(2.464717388153076),\n",
              " np.float64(2.468311905860901),\n",
              " np.float64(2.4232528805732727),\n",
              " np.float64(2.5088608860969543),\n",
              " np.float64(2.4561031460762024),\n",
              " np.float64(2.453484892845154),\n",
              " np.float64(2.4778159260749817),\n",
              " np.float64(2.4325239658355713),\n",
              " np.float64(2.434468924999237),\n",
              " np.float64(2.4750746488571167),\n",
              " np.float64(2.440221428871155),\n",
              " np.float64(2.4240310192108154),\n",
              " np.float64(2.4401360750198364),\n",
              " np.float64(2.3962087631225586),\n",
              " np.float64(2.437095284461975),\n",
              " np.float64(2.457595646381378),\n",
              " np.float64(2.4137234687805176),\n",
              " np.float64(2.4551079273223877),\n",
              " np.float64(2.4537526965141296),\n",
              " np.float64(2.4730557203292847),\n",
              " np.float64(2.4591705799102783),\n",
              " np.float64(2.4239456057548523),\n",
              " np.float64(2.498182475566864),\n",
              " np.float64(2.400943338871002),\n",
              " np.float64(2.4397042393684387),\n",
              " np.float64(2.4276652336120605),\n",
              " np.float64(2.4861618280410767),\n",
              " np.float64(2.46321177482605),\n",
              " np.float64(2.464142084121704),\n",
              " np.float64(2.436499297618866),\n",
              " np.float64(2.453752338886261),\n",
              " np.float64(2.5075307488441467),\n",
              " np.float64(2.4326411485671997),\n",
              " np.float64(2.4974818229675293),\n",
              " np.float64(2.4542417526245117),\n",
              " np.float64(2.40461003780365),\n",
              " np.float64(2.4536322951316833),\n",
              " np.float64(2.4263877868652344),\n",
              " np.float64(2.507126808166504),\n",
              " np.float64(2.444478392601013),\n",
              " np.float64(2.569400191307068),\n",
              " np.float64(2.4503807425498962),\n",
              " np.float64(2.4946343302726746),\n",
              " np.float64(2.4343780279159546),\n",
              " np.float64(2.4572227597236633),\n",
              " np.float64(2.5239056944847107),\n",
              " np.float64(2.461123049259186),\n",
              " np.float64(2.437030613422394),\n",
              " np.float64(2.455790102481842),\n",
              " np.float64(2.5166475772857666),\n",
              " np.float64(2.5050451159477234),\n",
              " np.float64(2.489042580127716),\n",
              " np.float64(2.5303467512130737),\n",
              " np.float64(2.466654658317566),\n",
              " np.float64(2.434010684490204),\n",
              " np.float64(2.4897226095199585),\n",
              " np.float64(2.450757682323456),\n",
              " np.float64(2.479709804058075),\n",
              " np.float64(2.445742964744568),\n",
              " np.float64(2.5330971479415894),\n",
              " np.float64(2.4823573231697083),\n",
              " np.float64(2.4829695224761963),\n",
              " np.float64(2.493967592716217),\n",
              " np.float64(2.468408524990082),\n",
              " np.float64(2.475000739097595),\n",
              " np.float64(2.4781094193458557),\n",
              " np.float64(2.503440201282501),\n",
              " np.float64(2.4528797268867493),\n",
              " np.float64(2.5036946535110474),\n",
              " np.float64(2.489606499671936),\n",
              " np.float64(2.5201205611228943),\n",
              " np.float64(2.4743600487709045),\n",
              " np.float64(2.443899691104889),\n",
              " np.float64(2.4878323674201965),\n",
              " np.float64(2.4636961817741394),\n",
              " np.float64(2.496612012386322),\n",
              " np.float64(2.4823365211486816),\n",
              " np.float64(2.472910225391388),\n",
              " np.float64(2.48681378364563),\n",
              " np.float64(2.456438899040222),\n",
              " np.float64(2.4422595500946045),\n",
              " np.float64(2.446127474308014),\n",
              " np.float64(2.49263459444046),\n",
              " np.float64(2.477777600288391),\n",
              " np.float64(2.437612235546112),\n",
              " np.float64(2.5009947419166565),\n",
              " np.float64(2.4806923866271973),\n",
              " np.float64(2.4513866901397705),\n",
              " np.float64(2.4750986099243164),\n",
              " np.float64(2.4605752825737),\n",
              " np.float64(2.4505754113197327),\n",
              " np.float64(2.531489133834839),\n",
              " np.float64(2.4989854097366333),\n",
              " np.float64(2.5208263397216797),\n",
              " np.float64(2.461624801158905),\n",
              " np.float64(2.5839661955833435),\n",
              " np.float64(2.486251413822174),\n",
              " np.float64(2.515235722064972),\n",
              " np.float64(2.5230061411857605),\n",
              " np.float64(2.4781023263931274),\n",
              " np.float64(2.4307424426078796),\n",
              " np.float64(2.5221168994903564),\n",
              " np.float64(2.466901481151581),\n",
              " np.float64(2.473358452320099),\n",
              " np.float64(2.4911400079727173),\n",
              " np.float64(2.4665926098823547),\n",
              " np.float64(2.556127369403839),\n",
              " np.float64(2.5175623297691345),\n",
              " np.float64(2.4954211711883545),\n",
              " np.float64(2.468744695186615),\n",
              " np.float64(2.5595434308052063),\n",
              " np.float64(2.4593763947486877),\n",
              " np.float64(2.500348448753357),\n",
              " np.float64(2.478182554244995),\n",
              " np.float64(2.492449700832367),\n",
              " np.float64(2.53889399766922),\n",
              " np.float64(2.5213270783424377),\n",
              " np.float64(2.5477635264396667),\n",
              " np.float64(2.537382185459137),\n",
              " np.float64(2.4986241459846497),\n",
              " np.float64(2.4842419624328613),\n",
              " np.float64(2.5721176266670227),\n",
              " np.float64(2.500306785106659),\n",
              " np.float64(2.48939847946167),\n",
              " np.float64(2.508108675479889),\n",
              " np.float64(2.508518934249878),\n",
              " np.float64(2.4602842330932617),\n",
              " np.float64(2.4939675331115723),\n",
              " np.float64(2.520038068294525),\n",
              " np.float64(2.5289212465286255),\n",
              " np.float64(2.498728334903717),\n",
              " np.float64(2.4758806228637695),\n",
              " np.float64(2.5004003643989563),\n",
              " np.float64(2.5314782857894897),\n",
              " np.float64(2.483992338180542),\n",
              " np.float64(2.4896442890167236),\n",
              " np.float64(2.564319133758545),\n",
              " np.float64(2.453715980052948),\n",
              " np.float64(2.5146438479423523),\n",
              " np.float64(2.5064465403556824),\n",
              " np.float64(2.4462005496025085),\n",
              " np.float64(2.4820148944854736),\n",
              " np.float64(2.4856594800949097),\n",
              " np.float64(2.4875133633613586),\n",
              " np.float64(2.489962875843048),\n",
              " np.float64(2.539847671985626),\n",
              " np.float64(2.4300625324249268),\n",
              " np.float64(2.4985880851745605),\n",
              " np.float64(2.521746814250946),\n",
              " np.float64(2.5150893926620483),\n",
              " np.float64(2.494675397872925),\n",
              " np.float64(2.525866210460663),\n",
              " np.float64(2.5653183460235596),\n",
              " np.float64(2.5981809496879578),\n",
              " np.float64(2.569586396217346),\n",
              " np.float64(2.5111052989959717),\n",
              " np.float64(2.543186068534851),\n",
              " np.float64(2.5880333185195923),\n",
              " np.float64(2.5507359504699707),\n",
              " np.float64(2.524894118309021),\n",
              " np.float64(2.493913173675537),\n",
              " np.float64(2.4902151823043823),\n",
              " np.float64(2.5015246272087097),\n",
              " np.float64(2.462605595588684),\n",
              " np.float64(2.4742594957351685),\n",
              " np.float64(2.522412657737732),\n",
              " np.float64(2.4503284692764282),\n",
              " np.float64(2.479907989501953),\n",
              " np.float64(2.5537028908729553),\n",
              " np.float64(2.5071694254875183),\n",
              " np.float64(2.475582242012024),\n",
              " np.float64(2.5168659687042236),\n",
              " np.float64(2.441458523273468),\n",
              " np.float64(2.513941705226898),\n",
              " np.float64(2.4694552421569824),\n",
              " np.float64(2.5187312960624695),\n",
              " np.float64(2.533821403980255),\n",
              " np.float64(2.492068588733673),\n",
              " np.float64(2.5095609426498413),\n",
              " np.float64(2.511475682258606),\n",
              " np.float64(2.576154112815857),\n",
              " np.float64(2.548766016960144),\n",
              " np.float64(2.489238440990448),\n",
              " np.float64(2.5164685249328613),\n",
              " np.float64(2.5058422088623047),\n",
              " np.float64(2.5322035551071167),\n",
              " np.float64(2.542675793170929),\n",
              " np.float64(2.499627709388733),\n",
              " np.float64(2.59922057390213),\n",
              " np.float64(2.4831870794296265),\n",
              " np.float64(2.553231954574585),\n",
              " np.float64(2.509136438369751),\n",
              " np.float64(2.4832116961479187),\n",
              " np.float64(2.605402112007141),\n",
              " np.float64(2.533498466014862),\n",
              " np.float64(2.4412803053855896),\n",
              " np.float64(2.475471258163452),\n",
              " np.float64(2.5089110732078552),\n",
              " np.float64(2.5294487476348877),\n",
              " np.float64(2.5142629742622375),\n",
              " np.float64(2.511512875556946),\n",
              " np.float64(2.5417532920837402),\n",
              " np.float64(2.538725733757019),\n",
              " np.float64(2.5193710327148438),\n",
              " np.float64(2.4893409609794617),\n",
              " np.float64(2.5191162824630737),\n",
              " np.float64(2.539083480834961),\n",
              " np.float64(2.57014262676239),\n",
              " np.float64(2.543029546737671),\n",
              " np.float64(2.499911606311798),\n",
              " np.float64(2.5065829753875732),\n",
              " np.float64(2.5260257720947266)]"
            ]
          },
          "metadata": {},
          "execution_count": 24
        }
      ]
    },
    {
      "cell_type": "markdown",
      "metadata": {
        "id": "dkQ6r-dDSZbI"
      },
      "source": [
        "**Plotting validation scores**"
      ]
    },
    {
      "cell_type": "code",
      "execution_count": 26,
      "metadata": {
        "colab": {
          "base_uri": "https://localhost:8080/",
          "height": 449
        },
        "id": "jhJ0wadbSZbJ",
        "outputId": "cf4edc49-0855-41df-f4cd-86b47f09b63b"
      },
      "outputs": [
        {
          "output_type": "display_data",
          "data": {
            "text/plain": [
              "<Figure size 640x480 with 1 Axes>"
            ],
            "image/png": "[encoded data removed]"
          },
          "metadata": {}
        }
      ],
      "source": [
        "import matplotlib.pyplot as plt\n",
        "\n",
        "plt.plot(range(1, len(average_mae_history) + 1), average_mae_history)\n",
        "plt.xlabel(\"Epochs\")\n",
        "plt.ylabel(\"Validation MAE\")\n",
        "plt.show()"
      ]
    },
    {
      "cell_type": "markdown",
      "metadata": {
        "id": "5OgzVbp4SZbJ"
      },
      "source": [
        "**Plotting validation scores, excluding the first 10 data points**"
      ]
    },
    {
      "cell_type": "code",
      "execution_count": 27,
      "metadata": {
        "colab": {
          "base_uri": "https://localhost:8080/",
          "height": 449
        },
        "id": "4Li4zsF6SZbJ",
        "outputId": "e546c84a-d57c-4055-ae86-515eb9cc7035"
      },
      "outputs": [
        {
          "output_type": "display_data",
          "data": {
            "text/plain": [
              "<Figure size 640x480 with 1 Axes>"
            ],
            "image/png": "[encoded data removed]"
          },
          "metadata": {}
        }
      ],
      "source": [
        "truncated_mae_history = average_mae_history[10:]\n",
        "plt.plot(range(1, len(truncated_mae_history) + 1), truncated_mae_history)\n",
        "plt.xlabel(\"Epochs\")\n",
        "plt.ylabel(\"Validation MAE\")\n",
        "plt.show()"
      ]
    },
    {
      "cell_type": "markdown",
      "metadata": {
        "id": "Dz3WO7JcSZbJ"
      },
      "source": [
        "**Training the final model**"
      ]
    },
    {
      "cell_type": "code",
      "execution_count": 28,
      "metadata": {
        "colab": {
          "base_uri": "https://localhost:8080/"
        },
        "id": "nnbqMd4PSZbJ",
        "outputId": "1e302a54-7baf-4b80-e363-a9b9b4c5a49e"
      },
      "outputs": [
        {
          "output_type": "stream",
          "name": "stdout",
          "text": [
            "\u001b[1m4/4\u001b[0m \u001b[32m━━━━━━━━━━━━━━━━━━━━\u001b[0m\u001b[37m\u001b[0m \u001b[1m1s\u001b[0m 158ms/step - loss: 11.4384 - mae: 2.2928\n"
          ]
        }
      ],
      "source": [
        "model = build_model()\n",
        "model.fit(train_data, train_targets,\n",
        "          epochs=130, batch_size=16, verbose=0)\n",
        "test_mse_score, test_mae_score = model.evaluate(test_data, test_targets)"
      ]
    },
    {
      "cell_type": "code",
      "execution_count": 29,
      "metadata": {
        "colab": {
          "base_uri": "https://localhost:8080/"
        },
        "id": "d3AL-TG2SZbJ",
        "outputId": "c58f6b11-1933-49b2-bce3-daca4ec9d2de"
      },
      "outputs": [
        {
          "output_type": "execute_result",
          "data": {
            "text/plain": [
              "2.455897808074951"
            ]
          },
          "metadata": {},
          "execution_count": 29
        }
      ],
      "source": [
        "test_mae_score"
      ]
    },
    {
      "cell_type": "markdown",
      "metadata": {
        "id": "NsTd0eZ4SZbK"
      },
      "source": [
        "### Generating predictions on new data"
      ]
    },
    {
      "cell_type": "code",
      "execution_count": 31,
      "metadata": {
        "colab": {
          "base_uri": "https://localhost:8080/"
        },
        "id": "2ab-QxKrSZbK",
        "outputId": "4b3335d0-7cec-4fc8-e1f4-bc4f282f68b0"
      },
      "outputs": [
        {
          "output_type": "execute_result",
          "data": {
            "text/plain": [
              "array([[ 7.864255],\n",
              "       [19.836557],\n",
              "       [21.960257],\n",
              "       [37.30629 ],\n",
              "       [24.988235],\n",
              "       [22.537249],\n",
              "       [27.955656],\n",
              "       [22.226652],\n",
              "       [18.744226],\n",
              "       [21.527292]], dtype=float32)"
            ]
          },
          "metadata": {},
          "execution_count": 31
        }
      ],
      "source": [
        "predictions = model.predict(test_data)\n",
        "predictions[:10]"
      ]
    },
    {
      "cell_type": "markdown",
      "metadata": {
        "id": "pQooGXNcSZbK"
      },
      "source": [
        "### Wrapping up"
      ]
    },
    {
      "cell_type": "markdown",
      "metadata": {
        "id": "8IFCaUxeSZbK"
      },
      "source": [
        "## Summary"
      ]
    }
  ],
  "metadata": {
    "colab": {
      "name": "chapter04_getting-started-with-neural-networks.i",
      "provenance": [],
      "machine_shape": "hm",
      "gpuType": "A100"
    },
    "kernelspec": {
      "display_name": "Python 3",
      "name": "python3"
    },
    "language_info": {
      "codemirror_mode": {
        "name": "ipython",
        "version": 3
      },
      "file_extension": ".py",
      "mimetype": "text/x-python",
      "name": "python",
      "nbconvert_exporter": "python",
      "pygments_lexer": "ipython3",
      "version": "3.7.0"
    },
    "accelerator": "GPU"
  },
  "nbformat": 4,
  "nbformat_minor": 0
}